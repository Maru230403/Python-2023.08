{
 "cells": [
  {
   "cell_type": "code",
   "execution_count": 92,
   "metadata": {},
   "outputs": [
    {
     "name": "stdout",
     "output_type": "stream",
     "text": [
      "67000\n"
     ]
    }
   ],
   "source": [
    "# unit 13\n",
    "price = int(input())\n",
    "coupon = input()\n",
    "if coupon == 'Cash3000':\n",
    "    price -= 3000\n",
    "if coupon == 'Cash5000':\n",
    "    price -= 5000\n",
    "print(price)"
   ]
  },
  {
   "cell_type": "code",
   "execution_count": 85,
   "metadata": {},
   "outputs": [
    {
     "name": "stdout",
     "output_type": "stream",
     "text": [
      "잘못된 점수\n"
     ]
    }
   ],
   "source": [
    "# unit 14\n",
    "k, e, m, s = map(int,input().split())\n",
    "if 0 <= k <= 100 and 0 <= e <= 100 and 0 <= m <= 100 and 0 <= s  <= 100:\n",
    "    if (k+e+m+s)/4 >= 80:\n",
    "        print('합격')\n",
    "    else: \n",
    "        print('불합격')\n",
    "else:\n",
    "    print('잘못된 점수')\n",
    "\n",
    "\n"
   ]
  },
  {
   "cell_type": "code",
   "execution_count": 1,
   "metadata": {},
   "outputs": [
    {
     "ename": "IndentationError",
     "evalue": "unexpected indent (2285884078.py, line 7)",
     "output_type": "error",
     "traceback": [
      "\u001b[1;36m  Cell \u001b[1;32mIn[1], line 7\u001b[1;36m\u001b[0m\n\u001b[1;33m    if avg >= 80:\u001b[0m\n\u001b[1;37m    ^\u001b[0m\n\u001b[1;31mIndentationError\u001b[0m\u001b[1;31m:\u001b[0m unexpected indent\n"
     ]
    }
   ],
   "source": [
    "# list를 사용해서 개선된 코드\n",
    "scores = list(map(int, input().split()))\n",
    "if min(scores) < 0 or max(scores) > 100:\n",
    "    print('잘못된 점수')\n",
    "else:\n",
    "    avg = sum(scores) / len(scores)\n",
    "        if avg >= 80:\n",
    "            print('합격')\n",
    "        else:\n",
    "            print('불합격')\n"
   ]
  },
  {
   "cell_type": "code",
   "execution_count": 87,
   "metadata": {},
   "outputs": [
    {
     "name": "stdout",
     "output_type": "stream",
     "text": [
      "8350\n"
     ]
    }
   ],
   "source": [
    "# unit 15\n",
    "age = int(input())\n",
    "balance = 9000 # 교통카드 잔액\n",
    "if 7 <= age <= 12:\n",
    "    balance -= 650\n",
    "elif 13 <= age <= 18:\n",
    "    balance -= 1050\n",
    "else:\n",
    "    balance -= 1250\n",
    "print(balance)"
   ]
  },
  {
   "cell_type": "code",
   "execution_count": null,
   "metadata": {},
   "outputs": [],
   "source": []
  },
  {
   "cell_type": "code",
   "execution_count": null,
   "metadata": {},
   "outputs": [],
   "source": []
  }
 ],
 "metadata": {
  "kernelspec": {
   "display_name": "base",
   "language": "python",
   "name": "python3"
  },
  "language_info": {
   "codemirror_mode": {
    "name": "ipython",
    "version": 3
   },
   "file_extension": ".py",
   "mimetype": "text/x-python",
   "name": "python",
   "nbconvert_exporter": "python",
   "pygments_lexer": "ipython3",
   "version": "3.11.4"
  },
  "orig_nbformat": 4
 },
 "nbformat": 4,
 "nbformat_minor": 2
}
