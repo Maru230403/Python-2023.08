{
 "cells": [
  {
   "cell_type": "markdown",
   "metadata": {},
   "source": [
    "## 7. 모듈\n",
    "### 7.1 표준 모듈"
   ]
  },
  {
   "cell_type": "markdown",
   "metadata": {},
   "source": [
    "- math 모듈"
   ]
  },
  {
   "cell_type": "markdown",
   "metadata": {},
   "source": [
    "- 모듈(라이브러리)\n",
    "    - 남이 작성한 모듈\n",
    "    - 표준 내장 모듈\n",
    "    - 설치형 모듈\n",
    "    - 내가 작성한 모듈"
   ]
  },
  {
   "cell_type": "markdown",
   "metadata": {},
   "source": [
    "- 전역 설치\n",
    "    - conda activate base ---> CMD창  \n",
    "    - pip install 모듈명            이걸로 사용 예정\n",
    "- 가상 환경별 설치\n",
    "    - conda activate 가상환경\n",
    "    - conda install option 모듈명\n"
   ]
  },
  {
   "cell_type": "code",
   "execution_count": 2,
   "metadata": {},
   "outputs": [
    {
     "data": {
      "text/plain": [
       "3.141592653589793"
      ]
     },
     "execution_count": 2,
     "metadata": {},
     "output_type": "execute_result"
    }
   ],
   "source": [
    "import math\n",
    "math.pi"
   ]
  },
  {
   "cell_type": "code",
   "execution_count": 3,
   "metadata": {},
   "outputs": [
    {
     "data": {
      "text/plain": [
       "(1.0, 6.123233995736766e-17)"
      ]
     },
     "execution_count": 3,
     "metadata": {},
     "output_type": "execute_result"
    }
   ],
   "source": [
    "# 90도일때(pi / 2) 사인, 코사인의 값\n",
    "math.sin(math.pi/2), math.cos(math.pi/2)"
   ]
  },
  {
   "cell_type": "code",
   "execution_count": 4,
   "metadata": {},
   "outputs": [
    {
     "data": {
      "text/plain": [
       "(1.0, 6.123233995736766e-17)"
      ]
     },
     "execution_count": 4,
     "metadata": {},
     "output_type": "execute_result"
    }
   ],
   "source": [
    "from math import sin, cos, pi\n",
    "sin(pi / 2), cos(pi / 2)"
   ]
  },
  {
   "cell_type": "code",
   "execution_count": 6,
   "metadata": {},
   "outputs": [
    {
     "data": {
      "text/plain": [
       "(1.0, 6.123233995736766e-17)"
      ]
     },
     "execution_count": 6,
     "metadata": {},
     "output_type": "execute_result"
    }
   ],
   "source": [
    "import math as m\n",
    "m.sin(m.pi / 2), m.cos(m.pi / 2)"
   ]
  },
  {
   "cell_type": "markdown",
   "metadata": {},
   "source": [
    "- random 모듈"
   ]
  },
  {
   "cell_type": "code",
   "execution_count": 7,
   "metadata": {},
   "outputs": [
    {
     "data": {
      "text/plain": [
       "(0.5119688909883365, 3)"
      ]
     },
     "execution_count": 7,
     "metadata": {},
     "output_type": "execute_result"
    }
   ],
   "source": [
    "import random as rd\n",
    "rd.random(), rd.randint(1, 6)"
   ]
  },
  {
   "cell_type": "code",
   "execution_count": 8,
   "metadata": {},
   "outputs": [
    {
     "ename": "TypeError",
     "evalue": "Random.uniform() missing 2 required positional arguments: 'a' and 'b'",
     "output_type": "error",
     "traceback": [
      "\u001b[1;31m---------------------------------------------------------------------------\u001b[0m",
      "\u001b[1;31mTypeError\u001b[0m                                 Traceback (most recent call last)",
      "Cell \u001b[1;32mIn[8], line 2\u001b[0m\n\u001b[0;32m      1\u001b[0m \u001b[39m# start, end까지 실수 반환\u001b[39;00m\n\u001b[1;32m----> 2\u001b[0m rd\u001b[39m.\u001b[39muniform(\u001b[39m11\u001b[39m, \u001b[39m20\u001b[39m), rd\u001b[39m.\u001b[39muniform()\n",
      "\u001b[1;31mTypeError\u001b[0m: Random.uniform() missing 2 required positional arguments: 'a' and 'b'"
     ]
    }
   ],
   "source": [
    "# start, end까지 실수 반환\n",
    "rd.uniform(11, 20), rd.uniform()"
   ]
  },
  {
   "cell_type": "code",
   "execution_count": 9,
   "metadata": {},
   "outputs": [
    {
     "data": {
      "text/plain": [
       "(0, 4)"
      ]
     },
     "execution_count": 9,
     "metadata": {},
     "output_type": "execute_result"
    }
   ],
   "source": [
    "# range() 범위에서 하나의 수 반환\n",
    "rd.randrange(10), rd.randrange(1, 7)"
   ]
  },
  {
   "cell_type": "code",
   "execution_count": 10,
   "metadata": {},
   "outputs": [
    {
     "data": {
      "text/plain": [
       "(1, [1, 2, 4])"
      ]
     },
     "execution_count": 10,
     "metadata": {},
     "output_type": "execute_result"
    }
   ],
   "source": [
    "a = [1, 2, 3, 4, 5]\n",
    "rd.choice(a), rd.sample(a, 3)"
   ]
  },
  {
   "cell_type": "code",
   "execution_count": 11,
   "metadata": {},
   "outputs": [
    {
     "data": {
      "text/plain": [
       "[1, 4, 2, 5, 3]"
      ]
     },
     "execution_count": 11,
     "metadata": {},
     "output_type": "execute_result"
    }
   ],
   "source": [
    "rd.shuffle(a)\n",
    "a"
   ]
  },
  {
   "cell_type": "markdown",
   "metadata": {},
   "source": [
    "- os 모듈"
   ]
  },
  {
   "cell_type": "code",
   "execution_count": 2,
   "metadata": {},
   "outputs": [
    {
     "data": {
      "text/plain": [
       "'nt'"
      ]
     },
     "execution_count": 2,
     "metadata": {},
     "output_type": "execute_result"
    }
   ],
   "source": [
    "import os\n",
    "os.name"
   ]
  },
  {
   "cell_type": "code",
   "execution_count": 16,
   "metadata": {},
   "outputs": [
    {
     "data": {
      "text/plain": [
       "'d:\\\\WorkSpace\\\\01.Python\\\\07.모듈'"
      ]
     },
     "execution_count": 16,
     "metadata": {},
     "output_type": "execute_result"
    }
   ],
   "source": [
    "# 현재 워킹 디렉토리(Current Working Directory)\n",
    "os.getcwd()"
   ]
  },
  {
   "cell_type": "code",
   "execution_count": 17,
   "metadata": {},
   "outputs": [
    {
     "data": {
      "text/plain": [
       "['01.표준모듈.ipynb', 'test_package']"
      ]
     },
     "execution_count": 17,
     "metadata": {},
     "output_type": "execute_result"
    }
   ],
   "source": [
    "# 현재 디렉토리에 있는 파일과 디렉토리 요소\n",
    "os.listdir()"
   ]
  },
  {
   "cell_type": "code",
   "execution_count": 25,
   "metadata": {},
   "outputs": [
    {
     "data": {
      "text/plain": [
       "['01.표준모듈.ipynb', 'test', 'test_package']"
      ]
     },
     "execution_count": 25,
     "metadata": {},
     "output_type": "execute_result"
    }
   ],
   "source": [
    "# 현 디렉토리에 test 디렉토리가 없으면 생성\n",
    "dir_name = 'test'\n",
    "if not os.path.exists(dir_name):\n",
    "    os.mkdir(dir_name)\n",
    "os.listdir()"
   ]
  },
  {
   "cell_type": "code",
   "execution_count": 26,
   "metadata": {},
   "outputs": [
    {
     "data": {
      "text/plain": [
       "['01.표준모듈.ipynb', 'test_package']"
      ]
     },
     "execution_count": 26,
     "metadata": {},
     "output_type": "execute_result"
    }
   ],
   "source": [
    "# 디렉토리 삭제\n",
    "if os.path.exists(dir_name):\n",
    "    os.rmdir(dir_name)\n",
    "os.listdir()"
   ]
  },
  {
   "cell_type": "code",
   "execution_count": 28,
   "metadata": {},
   "outputs": [
    {
     "name": "stdout",
     "output_type": "stream",
     "text": [
      "c:\\Users\\human\\anaconda3\n",
      "C:\\Users\\human\\anaconda3\n",
      "C:\\Users\\human\\anaconda3\\Library\\mingw-w64\\bin\n",
      "C:\\Users\\human\\anaconda3\\Library\\usr\\bin\n",
      "C:\\Users\\human\\anaconda3\\Library\\bin\n",
      "C:\\Users\\human\\anaconda3\\Scripts\n",
      "C:\\Users\\human\\anaconda3\\bin\n",
      "C:\\Users\\human\\anaconda3\\condabin\n",
      "C:\\oraclexe\\app\\oracle\\product\\11.2.0\\server\\bin\n",
      "C:\\Program Files (x86)\\Common Files\\Oracle\\Java\\javapath\n",
      "C:\\oraclexe\\app\\oracle\\product\\11.2.0\\server\\bin\n",
      "C:\\Program Files\\Java\\jdk-17.0.7.7\\bin\n",
      "C:\\WINDOWS\\system32\n",
      "C:\\WINDOWS\n",
      "C:\\WINDOWS\\System32\\Wbem\n",
      "C:\\WINDOWS\\System32\\WindowsPowerShell\\v1.0\n",
      "C:\\WINDOWS\\System32\\OpenSSH\n",
      "C:\\Program Files\\Bandizip\n",
      "C:\\Program Files\\Java\\jdk1.8.0_202\\bin\n",
      "C:\\Program Files\\Git\\cmd\n",
      "C:\\Users\\human\\anaconda3\n",
      "C:\\Users\\human\\anaconda3\\Library\\mingw-w64\\bin\n",
      "C:\\Users\\human\\anaconda3\\Library\\usr\\bin\n",
      "C:\\Users\\human\\anaconda3\\Library\\bin\n",
      "C:\\Users\\human\\anaconda3\\Scripts\n",
      "C:\\Users\\human\\AppData\\Local\\Programs\\Python\\Python311\\Scripts\n",
      "C:\\Users\\human\\AppData\\Local\\Programs\\Python\\Python311\n",
      "C:\\Users\\human\\AppData\\Local\\Microsoft\\WindowsApps\n",
      "C:\\Users\\human\\AppData\\Local\\Programs\\Microsoft VS Code\\bin\n"
     ]
    }
   ],
   "source": [
    "# 경로상에 있는 PATH 확인\n",
    "paths = os.environ['PATH']\n",
    "for path in paths.split(';'):\n",
    "    print(path)"
   ]
  },
  {
   "cell_type": "code",
   "execution_count": 3,
   "metadata": {},
   "outputs": [
    {
     "name": "stdout",
     "output_type": "stream",
     "text": [
      "\n",
      "Path : C:/Temp\n",
      "\n",
      "\n",
      " file : Hello.class\n",
      "\n",
      "33206\n",
      "1688849860736008\n",
      "506552450\n",
      "1\n",
      "0\n",
      "0\n",
      "163\n",
      "Tue Jun 20 17:13:49 2023\n",
      "Thu Jun 22 16:04:26 2023\n",
      "Tue Jun 20 16:55:31 2023\n",
      "\n",
      " file : Hello.java\n",
      "\n",
      "33206\n",
      "1688849860735990\n",
      "506552450\n",
      "1\n",
      "0\n",
      "0\n",
      "106\n",
      "Tue Jun 20 17:03:13 2023\n",
      "Tue Jun 20 17:13:28 2023\n",
      "Tue Jun 20 16:52:53 2023\n",
      "\n",
      " file : KakaoTalk_20230807_162954787.jpg\n",
      "\n",
      "33206\n",
      "562949954215235\n",
      "506552450\n",
      "1\n",
      "0\n",
      "0\n",
      "263436\n",
      "Mon Aug 14 15:58:42 2023\n",
      "Mon Aug 14 15:58:42 2023\n",
      "Mon Aug 14 15:56:01 2023\n"
     ]
    }
   ],
   "source": [
    "import time\n",
    "from tkinter import filedialog\n",
    "def b(c):\n",
    "    (mode, ino, dev, nlink, uid, gid, size, atime, mtime, ctime)=os.stat(c)\n",
    "    print(mode)\n",
    "    print(ino)\n",
    "    print(dev)\n",
    "    print(nlink)\n",
    "    print(uid)\n",
    "    print(gid)\n",
    "    print(size)\n",
    "    modifiedTime = time.ctime(mtime)\n",
    "    accessTime = time.ctime(atime)\n",
    "    createdTime = time.ctime(ctime)\n",
    "    print(modifiedTime)\n",
    "    print(accessTime)\n",
    "    print(createdTime)\n",
    "a = filedialog.askdirectory()\n",
    "for (path, dirs, files) in os.walk(a):\n",
    "    print (\"\\nPath : \"+path+\"\\n\")\n",
    "    for file in files:\n",
    "        print(\"\\n file : \"+file+\"\\n\")\n",
    "        c = os.path.join(path, file)\n",
    "        b(c)"
   ]
  },
  {
   "cell_type": "code",
   "execution_count": null,
   "metadata": {},
   "outputs": [],
   "source": []
  }
 ],
 "metadata": {
  "kernelspec": {
   "display_name": "base",
   "language": "python",
   "name": "python3"
  },
  "language_info": {
   "codemirror_mode": {
    "name": "ipython",
    "version": 3
   },
   "file_extension": ".py",
   "mimetype": "text/x-python",
   "name": "python",
   "nbconvert_exporter": "python",
   "pygments_lexer": "ipython3",
   "version": "3.11.4"
  },
  "orig_nbformat": 4
 },
 "nbformat": 4,
 "nbformat_minor": 2
}
