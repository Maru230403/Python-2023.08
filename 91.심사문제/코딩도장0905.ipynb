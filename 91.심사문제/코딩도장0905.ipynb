{
 "cells": [
  {
   "cell_type": "markdown",
   "metadata": {},
   "source": [
    "### UNIT 44"
   ]
  },
  {
   "cell_type": "markdown",
   "metadata": {},
   "source": [
    "- UNIT 44\n",
    "\n",
    "표준 입력으로 원의 반지름(실수)이 입력됩니다. 입력된 반지름을 이용하여 원의 넓이를 출력하는 프로그램을 만드세요(input에서 안내 문자열은 출력하지 않아야 합니다). 원의 넓이는 반지름 * 반지름 * 원주율로 구합니다.\n",
    "\n"
   ]
  },
  {
   "cell_type": "code",
   "execution_count": 14,
   "metadata": {},
   "outputs": [
    {
     "name": "stdout",
     "output_type": "stream",
     "text": [
      "19.634954084936208\n"
     ]
    }
   ],
   "source": [
    "x = float(input())\n",
    "from math import pi\n",
    "print(x * x * pi)"
   ]
  },
  {
   "cell_type": "markdown",
   "metadata": {},
   "source": [
    "### UNIT 45"
   ]
  },
  {
   "cell_type": "markdown",
   "metadata": {},
   "source": [
    "- UNIT 45\n",
    "\n",
    "표준 입력으로 정수가 입력됩니다. 주어진 calcpkg 패키지를 활용하여 입력된 정수의 제곱근과 입력된 정수를 반지름으로 하는 원의 넓이가 출력되게 만드세요. 제곱근은 calcpkg 패키지에서 operation 모듈의 squareroot 함수를 사용하고, 원의 넓이는 calcpkg 패키지에서 geometry 모듈의 circle_area 함수를 사용하세요(calcpkg 패키지를 사용하지 않고 계산하면 결과가 맞더라도 틀린 것으로 처리됩니다. 반드시 calcpkg 패키지를 사용하세요).\n",
    "\n"
   ]
  },
  {
   "cell_type": "code",
   "execution_count": null,
   "metadata": {},
   "outputs": [],
   "source": [
    "n = int(input())"
   ]
  },
  {
   "cell_type": "markdown",
   "metadata": {},
   "source": [
    "### UNIT 34"
   ]
  },
  {
   "cell_type": "markdown",
   "metadata": {},
   "source": [
    "- UNIT 34\n",
    "\n",
    "표준 입력으로 게임 캐릭터 능력치(체력, 마나, AP)가 입력됩니다. 다음 소스 코드에서 애니(Annie) 클래스를 작성하여 티버(tibbers) 스킬의 피해량이 출력되게 만드세요. 티버의 피해량은 AP * 0.65 + 400이며 AP(Ability Power, 주문력)는 마법 능력치를 뜻합니다.\n",
    "\n"
   ]
  },
  {
   "cell_type": "code",
   "execution_count": 21,
   "metadata": {},
   "outputs": [
    {
     "name": "stdout",
     "output_type": "stream",
     "text": [
      "티버: 피해량 819.25\n"
     ]
    }
   ],
   "source": [
    "class Annie:\n",
    "    def __init__(self, health, mana, ability_power):\n",
    "        self.health = health\n",
    "        self.mana = mana\n",
    "        self.ability_power = ability_power\n",
    "    def tibbers(self):\n",
    "       print(f'티버: 피해량 {self.ability_power * 0.65 + 400}')\n",
    "health, mana, ability_power = map(float, input().split())\n",
    "x = Annie(health=health, mana=mana, ability_power=ability_power)\n",
    "x.tibbers()"
   ]
  },
  {
   "cell_type": "markdown",
   "metadata": {},
   "source": [
    "### class Account (계좌)를 만드세요.\n",
    "\n",
    "1. 속성값\n",
    "    - 계좌번호(ano), 소유주(owner), 잔액(balance)\n",
    "    - 단, 잔액은 0원 이상이고 10,000,000원 이하이어야 한다.\n",
    "2. deposit method\n",
    "    - amount를 매개변수로 받아 balance에 더해준다.\n",
    "    - 잔액은 10000000원을 초과할 수 없다.\n",
    "3. withdraw method\n",
    "    - amount 만큼의 금액을  balance에서 차감된다.\n",
    "    - 잔액은 마이너스 금액이 될 수 없다. \n",
    "4. __str__ method\n",
    "    - 계좌번호: 000, 소유주: 000, 잔액: 10자리의 천단위 구분기호가 있는 정수"
   ]
  },
  {
   "cell_type": "code",
   "execution_count": 79,
   "metadata": {},
   "outputs": [],
   "source": [
    "class Account:\n",
    "    def __init__(self, ano, owner, balance):\n",
    "        self.ano = ano\n",
    "        self.owner = owner\n",
    "        self.balance = balance\n",
    "        if 0 <= self.balance <= 10000000:\n",
    "            pass\n",
    "        else:\n",
    "            print('금액이 초과되었습니다.')\n",
    "    def deposit(self, amount):\n",
    "        if self.balance + amount <= 10000000:\n",
    "            self.balance += amount\n",
    "            print(f'잔액이 {self.balance:10,d}원 입니다.')\n",
    "        else:\n",
    "            print('금액이 초과되었습니다.')\n",
    "    def withdraw(self, amount):\n",
    "        if self.balance - amount >= 0:\n",
    "            self.balance -= amount\n",
    "            print(f'잔액이 {self.balance:10,d}원 입니다.')\n",
    "        else:\n",
    "            print('금액이 초과되었습니다.')\n",
    "    def __str__(self):\n",
    "        return f'계좌번호:{self.ano}, 소유주:{self.owner}, 잔액:{self.balance:10,d}'\n",
    "\n",
    "\n",
    "\n",
    "        \n"
   ]
  },
  {
   "cell_type": "code",
   "execution_count": 80,
   "metadata": {},
   "outputs": [
    {
     "name": "stdout",
     "output_type": "stream",
     "text": [
      "잔액이  8,300,000원 입니다.\n",
      "잔액이  8,100,000원 입니다.\n",
      "계좌번호:3333, 소유주:세훈, 잔액: 8,100,000\n"
     ]
    }
   ],
   "source": [
    "ac = Account(3333, '세훈', 8000000)\n",
    "ac.deposit(300000)\n",
    "ac.withdraw(200000)\n",
    "print(ac)"
   ]
  },
  {
   "cell_type": "code",
   "execution_count": 69,
   "metadata": {},
   "outputs": [
    {
     "name": "stdout",
     "output_type": "stream",
     "text": [
      "8090000\n",
      "8080000\n",
      "8070000\n",
      "8060000\n",
      "8050000\n",
      "8040000\n",
      "8030000\n",
      "8020000\n",
      "8010000\n",
      "8000000\n",
      "7990000\n",
      "7980000\n",
      "7970000\n",
      "7960000\n",
      "7950000\n",
      "7940000\n",
      "7930000\n",
      "7920000\n",
      "7910000\n",
      "7900000\n"
     ]
    }
   ],
   "source": [
    "for _ in range(20):\n",
    "    ac.withdraw(10000)\n"
   ]
  },
  {
   "cell_type": "code",
   "execution_count": null,
   "metadata": {},
   "outputs": [],
   "source": []
  }
 ],
 "metadata": {
  "kernelspec": {
   "display_name": "base",
   "language": "python",
   "name": "python3"
  },
  "language_info": {
   "codemirror_mode": {
    "name": "ipython",
    "version": 3
   },
   "file_extension": ".py",
   "mimetype": "text/x-python",
   "name": "python",
   "nbconvert_exporter": "python",
   "pygments_lexer": "ipython3",
   "version": "3.11.4"
  },
  "orig_nbformat": 4
 },
 "nbformat": 4,
 "nbformat_minor": 2
}
