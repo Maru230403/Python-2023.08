{
 "cells": [
  {
   "cell_type": "markdown",
   "metadata": {},
   "source": [
    "### 3.3 if ~ elif ~ else"
   ]
  },
  {
   "cell_type": "code",
   "execution_count": 1,
   "metadata": {},
   "outputs": [],
   "source": [
    "import datetime\n",
    "now = datetime.datetime.now()"
   ]
  },
  {
   "cell_type": "code",
   "execution_count": 2,
   "metadata": {},
   "outputs": [
    {
     "name": "stdout",
     "output_type": "stream",
     "text": [
      "8월은 여름입니다.\n"
     ]
    }
   ],
   "source": [
    "if 3 <= now.month <= 5: \n",
    "    print(f'{now.month}월은 봄입니다.')\n",
    "if 6 <= now.month <= 8: \n",
    "    print(f'{now.month}월은 여름입니다.')\n",
    "if 9 <= now.month <= 11: \n",
    "    print(f'{now.month}월은 가을입니다.')\n",
    "if now.month <= 2 or now.month >= 12: \n",
    "    print(f'{now.month}월은 겨울입니다.')"
   ]
  },
  {
   "cell_type": "code",
   "execution_count": 3,
   "metadata": {},
   "outputs": [
    {
     "name": "stdout",
     "output_type": "stream",
     "text": [
      "8월은 여름입니다.\n"
     ]
    }
   ],
   "source": [
    "if 3 <= now.month <= 5: \n",
    "    print(f'{now.month}월은 봄입니다.')\n",
    "elif 6 <= now.month <= 8: \n",
    "    print(f'{now.month}월은 여름입니다.')\n",
    "elif 9 <= now.month <= 11: \n",
    "    print(f'{now.month}월은 가을입니다.')\n",
    "else:\n",
    "    print(f'{now.month}월은 겨울입니다.')"
   ]
  },
  {
   "cell_type": "code",
   "execution_count": 7,
   "metadata": {},
   "outputs": [
    {
     "data": {
      "text/plain": [
       "(57, 'F')"
      ]
     },
     "execution_count": 7,
     "metadata": {},
     "output_type": "execute_result"
    }
   ],
   "source": [
    "# 90점 이상 - A, 80점 이상 - B, 70점 이상 - C, 60점 이상 - D, 60점 미만 F\n",
    "import random\n",
    "score = random.randint(40, 100)\n",
    "if score >= 90:\n",
    "    grade = 'A'\n",
    "elif score >= 80:\n",
    "    grade = 'B'\n",
    "elif score >= 70:\n",
    "    grade = 'C'\n",
    "elif score >= 60:\n",
    "    grade = 'D'\n",
    "else:\n",
    "    grade = 'F'\n",
    "score, grade"
   ]
  },
  {
   "cell_type": "code",
   "execution_count": 15,
   "metadata": {},
   "outputs": [
    {
     "name": "stdout",
     "output_type": "stream",
     "text": [
      "2000은 윤년입니다.\n"
     ]
    }
   ],
   "source": [
    "# 년도 입력, 윤년여부 판단\n",
    "# 400 으로 나눠서 떨어지면 윤년, 100우로 나눠서 떨어지면 평년\n",
    "# 4로 나눠서 떨어지면 윤년 아니면 평년\n",
    "year = int(input('년도 입력> '))\n",
    "if year % 400 ==0:\n",
    "    print(f'{year}은 윤년입니다.')\n",
    "elif year % 100 ==0:\n",
    "    print(f'{year}은 평년입니다.')\n",
    "elif year % 4 ==0:\n",
    "    print(f'{year}은 윤년입니다.')\n",
    "else:\n",
    "    print(f'{year}은 평년입니다')"
   ]
  },
  {
   "cell_type": "code",
   "execution_count": 16,
   "metadata": {},
   "outputs": [
    {
     "data": {
      "text/plain": [
       "(2023, '평년')"
      ]
     },
     "execution_count": 16,
     "metadata": {},
     "output_type": "execute_result"
    }
   ],
   "source": [
    "# 년도 입력, 윤년여부 판단\n",
    "# 400 으로 나눠서 떨어지면 윤년, 100우로 나눠서 떨어지면 평년\n",
    "# 4로 나눠서 떨어지면 윤년 아니면 평년\n",
    "year = int(input('년도 입력> '))\n",
    "if year % 400 == 0:\n",
    "    since = '윤년'\n",
    "elif year % 100 == 0:\n",
    "    since = '평년'\n",
    "elif year % 4 == 0:\n",
    "    since = '윤년'\n",
    "else:\n",
    "    since ='평년'\n",
    "year,since"
   ]
  },
  {
   "cell_type": "code",
   "execution_count": 28,
   "metadata": {},
   "outputs": [
    {
     "data": {
      "text/plain": [
       "(1995, 8, 30)"
      ]
     },
     "execution_count": 28,
     "metadata": {},
     "output_type": "execute_result"
    }
   ],
   "source": [
    "# 생년월일을 입력으로 받아, 오늘 날짜의 만 나이를 구하시오\n",
    "b_year, b_month, b_day = map(int, (input)('생년월일 입력> ').split())\n",
    "b_year, b_month, b_day"
   ]
  },
  {
   "cell_type": "code",
   "execution_count": 18,
   "metadata": {},
   "outputs": [
    {
     "data": {
      "text/plain": [
       "(2023, 8, 29)"
      ]
     },
     "execution_count": 18,
     "metadata": {},
     "output_type": "execute_result"
    }
   ],
   "source": [
    "t_year, t_month, t_day = now.year, now.month, now.day\n",
    "t_year, t_month, t_day"
   ]
  },
  {
   "cell_type": "code",
   "execution_count": 33,
   "metadata": {},
   "outputs": [
    {
     "name": "stdout",
     "output_type": "stream",
     "text": [
      "1995년 8월 30일생은 2023년 8월 29일기준 만27세 입니다.\n"
     ]
    }
   ],
   "source": [
    "if b_month < t_month:\n",
    "    age = t_year - b_year\n",
    "    print(f'{b_year}년 {b_month}월 {b_day}일생은 {t_year}년 {t_month}월 {t_day}일기준 만{age}세 입니다.')\n",
    "elif b_month > t_month:\n",
    "    age =  t_year - b_year-1\n",
    "    print(f'{b_year}년 {b_month}월 {b_day}일생은 {t_year}년 {t_month}월 {t_day}일기준 만{age}세 입니다.')\n",
    "else:\n",
    "    if b_day <= t_day:\n",
    "     age = t_year - b_year\n",
    "     print(f'{b_year}년 {b_month}월 {b_day}일생은 {t_year}년 {t_month}월 {t_day}일기준 만{age}세 입니다.')\n",
    "    else:\n",
    "        age = t_year - b_year-1\n",
    "        print(f'{b_year}년 {b_month}월 {b_day}일생은 {t_year}년 {t_month}월 {t_day}일기준 만{age}세 입니다.')\n"
   ]
  },
  {
   "cell_type": "code",
   "execution_count": 34,
   "metadata": {},
   "outputs": [
    {
     "data": {
      "text/plain": [
       "27"
      ]
     },
     "execution_count": 34,
     "metadata": {},
     "output_type": "execute_result"
    }
   ],
   "source": [
    "if b_month * 100 + b_day <= t_month * 100 + t_day:\n",
    "    age = t_year - b_year\n",
    "else:\n",
    "    age = t_year - b_year - 1\n",
    "age"
   ]
  },
  {
   "cell_type": "markdown",
   "metadata": {},
   "source": [
    "- False로 변환되는 값"
   ]
  },
  {
   "cell_type": "code",
   "execution_count": 35,
   "metadata": {},
   "outputs": [
    {
     "name": "stdout",
     "output_type": "stream",
     "text": [
      "27\n"
     ]
    }
   ],
   "source": [
    "if age:\n",
    "    print(age)"
   ]
  },
  {
   "cell_type": "code",
   "execution_count": 36,
   "metadata": {},
   "outputs": [
    {
     "data": {
      "text/plain": [
       "(True, False, False)"
      ]
     },
     "execution_count": 36,
     "metadata": {},
     "output_type": "execute_result"
    }
   ],
   "source": [
    "bool(1), bool(0), bool(0.0)"
   ]
  },
  {
   "cell_type": "code",
   "execution_count": 37,
   "metadata": {},
   "outputs": [
    {
     "data": {
      "text/plain": [
       "(True, False, False)"
      ]
     },
     "execution_count": 37,
     "metadata": {},
     "output_type": "execute_result"
    }
   ],
   "source": [
    "bool('a'), bool(''), bool(None)     # 값이 있으면 True고 값이 없거나 None이면 False이다."
   ]
  },
  {
   "cell_type": "code",
   "execution_count": 38,
   "metadata": {},
   "outputs": [
    {
     "data": {
      "text/plain": [
       "(False, False, False)"
      ]
     },
     "execution_count": 38,
     "metadata": {},
     "output_type": "execute_result"
    }
   ],
   "source": [
    "# empty list, empty tuple, empty dictionary\n",
    "bool([]), bool(()), bool({})"
   ]
  },
  {
   "cell_type": "code",
   "execution_count": null,
   "metadata": {},
   "outputs": [],
   "source": []
  }
 ],
 "metadata": {
  "kernelspec": {
   "display_name": "base",
   "language": "python",
   "name": "python3"
  },
  "language_info": {
   "codemirror_mode": {
    "name": "ipython",
    "version": 3
   },
   "file_extension": ".py",
   "mimetype": "text/x-python",
   "name": "python",
   "nbconvert_exporter": "python",
   "pygments_lexer": "ipython3",
   "version": "3.11.4"
  },
  "orig_nbformat": 4
 },
 "nbformat": 4,
 "nbformat_minor": 2
}
