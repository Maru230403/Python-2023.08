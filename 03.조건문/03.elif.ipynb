{
 "cells": [
  {
   "cell_type": "markdown",
   "metadata": {},
   "source": [
    "### 3.3 if ~ elif ~ else"
   ]
  },
  {
   "cell_type": "code",
   "execution_count": 1,
   "metadata": {},
   "outputs": [],
   "source": [
    "import datetime\n",
    "now = datetime.datetime.now()"
   ]
  },
  {
   "cell_type": "code",
   "execution_count": 2,
   "metadata": {},
   "outputs": [
    {
     "name": "stdout",
     "output_type": "stream",
     "text": [
      "8월은 여름입니다.\n"
     ]
    }
   ],
   "source": [
    "if 3 <= now.month <= 5: \n",
    "    print(f'{now.month}월은 봄입니다.')\n",
    "if 6 <= now.month <= 8: \n",
    "    print(f'{now.month}월은 여름입니다.')\n",
    "if 9 <= now.month <= 11: \n",
    "    print(f'{now.month}월은 가을입니다.')\n",
    "if now.month <= 2 or now.month >= 12: \n",
    "    print(f'{now.month}월은 겨울입니다.')"
   ]
  },
  {
   "cell_type": "code",
   "execution_count": 3,
   "metadata": {},
   "outputs": [
    {
     "name": "stdout",
     "output_type": "stream",
     "text": [
      "8월은 여름입니다.\n"
     ]
    }
   ],
   "source": [
    "if 3 <= now.month <= 5: \n",
    "    print(f'{now.month}월은 봄입니다.')\n",
    "elif 6 <= now.month <= 8: \n",
    "    print(f'{now.month}월은 여름입니다.')\n",
    "elif 9 <= now.month <= 11: \n",
    "    print(f'{now.month}월은 가을입니다.')\n",
    "else:\n",
    "    print(f'{now.month}월은 겨울입니다.')"
   ]
  },
  {
   "cell_type": "code",
   "execution_count": 7,
   "metadata": {},
   "outputs": [
    {
     "data": {
      "text/plain": [
       "(57, 'F')"
      ]
     },
     "execution_count": 7,
     "metadata": {},
     "output_type": "execute_result"
    }
   ],
   "source": [
    "# 90점 이상 - A, 80점 이상 - B, 70점 이상 - C, 60점 이상 - D, 60점 미만 F\n",
    "import random\n",
    "score = random.randint(40, 100)\n",
    "if score >= 90:\n",
    "    grade = 'A'\n",
    "elif score >= 80:\n",
    "    grade = 'B'\n",
    "elif score >= 70:\n",
    "    grade = 'C'\n",
    "elif score >= 60:\n",
    "    grade = 'D'\n",
    "else:\n",
    "    grade = 'F'\n",
    "score, grade"
   ]
  },
  {
   "cell_type": "code",
   "execution_count": 11,
   "metadata": {},
   "outputs": [
    {
     "data": {
      "text/plain": [
       "(2023, '일반년')"
      ]
     },
     "execution_count": 11,
     "metadata": {},
     "output_type": "execute_result"
    }
   ],
   "source": [
    "# 년도 입력, 윤년여부 판단\n",
    "# 400 으로 나눠서 떨어지면 윤년, 100우로 나눠서 떨어지면 평년\n",
    "# 4로 나눠서 떨어지면 윤년 아니면 평년\n",
    "year = int(input('년도 입력> '))\n",
    "if year % 400 == 0:\n",
    "    since = '윤년'\n",
    "elif year % 100 == 0:\n",
    "    since = '평년'\n",
    "elif year % 4 == 0:\n",
    "    since = '윤년' or '평년'\n",
    "else:\n",
    "    since ='일반년'\n",
    "year,since"
   ]
  },
  {
   "cell_type": "code",
   "execution_count": null,
   "metadata": {},
   "outputs": [],
   "source": [
    "# 년도 입력, 윤년여부 판단\n",
    "# 400 으로 나눠서 떨어지면 윤년, 100우로 나눠서 떨어지면 평년\n",
    "# 4로 나눠서 떨어지면 윤년 아니면 평년\n",
    "year = int(input('년도 입력> '))\n",
    "if year % 400 ==0:\n",
    "    print(f'{year}은 윤년입니다.')\n",
    "elif year % 100 ==0:\n",
    "    print(f'{year}은 평년입니다.')\n",
    "elif year % 400 ==0:\n",
    "    print(f'{year}은 윤년 또는 평년입니다.')\n",
    "else:\n",
    "    print(f'{year}은 일반년입니다')"
   ]
  }
 ],
 "metadata": {
  "kernelspec": {
   "display_name": "base",
   "language": "python",
   "name": "python3"
  },
  "language_info": {
   "codemirror_mode": {
    "name": "ipython",
    "version": 3
   },
   "file_extension": ".py",
   "mimetype": "text/x-python",
   "name": "python",
   "nbconvert_exporter": "python",
   "pygments_lexer": "ipython3",
   "version": "3.11.4"
  },
  "orig_nbformat": 4
 },
 "nbformat": 4,
 "nbformat_minor": 2
}
