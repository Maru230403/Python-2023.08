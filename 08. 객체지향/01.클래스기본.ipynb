{
 "cells": [
  {
   "cell_type": "markdown",
   "metadata": {},
   "source": [
    "## 8. 객체 지향\n",
    "### 8.1 클래스의 기본"
   ]
  },
  {
   "cell_type": "markdown",
   "metadata": {},
   "source": [
    "- 사람의 정보를 저장하는 자료 만들기"
   ]
  },
  {
   "cell_type": "code",
   "execution_count": 3,
   "metadata": {},
   "outputs": [],
   "source": [
    "# 리스트\n",
    "person_list = ['James', 175.0, 'programmer', 27]"
   ]
  },
  {
   "cell_type": "code",
   "execution_count": 4,
   "metadata": {},
   "outputs": [],
   "source": [
    "# 딕셔너리\n",
    "person_dict = {\n",
    "    'name' : 'James', 'height': 175.0, 'job':'programmer', 'age': 27 \n",
    "}"
   ]
  },
  {
   "cell_type": "code",
   "execution_count": 5,
   "metadata": {},
   "outputs": [],
   "source": [
    "# 클래스\n",
    "class Person:\n",
    "    def __init__(self):             # 생성자 함수, 속성을 정의\n",
    "        self.name = 'James'\n",
    "        self.height = 175.0\n",
    "        self.job = 'programmer'\n",
    "        self.age = 27"
   ]
  },
  {
   "cell_type": "code",
   "execution_count": 6,
   "metadata": {},
   "outputs": [
    {
     "data": {
      "text/plain": [
       "('James', 'James')"
      ]
     },
     "execution_count": 6,
     "metadata": {},
     "output_type": "execute_result"
    }
   ],
   "source": [
    "# 이름을 참조하는 방법\n",
    "person_list[0], person_dict['name']"
   ]
  },
  {
   "cell_type": "code",
   "execution_count": 7,
   "metadata": {},
   "outputs": [
    {
     "data": {
      "text/plain": [
       "'James'"
      ]
     },
     "execution_count": 7,
     "metadata": {},
     "output_type": "execute_result"
    }
   ],
   "source": [
    "# 클래스는 먼저 객체를 생성한 후 이름을 참조해야 함\n",
    "james = Person()\n",
    "james.name"
   ]
  },
  {
   "cell_type": "code",
   "execution_count": 9,
   "metadata": {},
   "outputs": [],
   "source": [
    "# 범용적으로 만들어, 객체를 생성할 때 속성의 값을 할당\n",
    "class Person2:\n",
    "    def __init__(self, name, height, job, age):     # self는 자바에 this의 의미 무조건 첫번째에 self를 쓰고 시작한다. \n",
    "        self.name = name\n",
    "        self.height = height\n",
    "        self.job = job\n",
    "        self.age = age\n"
   ]
  },
  {
   "cell_type": "code",
   "execution_count": 11,
   "metadata": {},
   "outputs": [],
   "source": [
    "james = Person2('James', 175.0, 'programmer', 27)\n",
    "maria = Person2('maria', 165.0, 'designer', 25)"
   ]
  },
  {
   "cell_type": "code",
   "execution_count": 13,
   "metadata": {},
   "outputs": [
    {
     "data": {
      "text/plain": [
       "('maria', 165.0, 'designer', 25)"
      ]
     },
     "execution_count": 13,
     "metadata": {},
     "output_type": "execute_result"
    }
   ],
   "source": [
    "maria.name, maria.height, maria.job, maria.age"
   ]
  },
  {
   "cell_type": "markdown",
   "metadata": {},
   "source": [
    "- 메소드(Method)\n",
    "    - 클래스가 가지는 함수\n",
    "    - 객체가 할 수 있는 행위를 모델링"
   ]
  },
  {
   "cell_type": "code",
   "execution_count": 12,
   "metadata": {},
   "outputs": [],
   "source": [
    "class Person3:\n",
    "    def __init__(self, name, height, job, age):  \n",
    "        self.name = name\n",
    "        self.height = height\n",
    "        self.job = job\n",
    "        self.age = age\n",
    "        \n",
    "    def get_info(self):\n",
    "        return f'이름: {self.name}, 키: {self.height}, 직업: {self.job}, 나이: {self.age}'"
   ]
  },
  {
   "cell_type": "code",
   "execution_count": 16,
   "metadata": {},
   "outputs": [],
   "source": [
    "james = Person3('James', 175.0, 'programmer', 27)\n",
    "maria = Person3('maria', 165.0, 'designer', 25)"
   ]
  },
  {
   "cell_type": "code",
   "execution_count": 18,
   "metadata": {},
   "outputs": [
    {
     "data": {
      "text/plain": [
       "'이름: maria, 키: 165.0, 직업: designer, 나이: 25'"
      ]
     },
     "execution_count": 18,
     "metadata": {},
     "output_type": "execute_result"
    }
   ],
   "source": [
    "maria.get_info()"
   ]
  },
  {
   "cell_type": "code",
   "execution_count": 24,
   "metadata": {},
   "outputs": [
    {
     "name": "stdout",
     "output_type": "stream",
     "text": [
      "<__main__.Person3 object at 0x000001FE83596210>\n"
     ]
    }
   ],
   "source": [
    "print(maria)"
   ]
  },
  {
   "cell_type": "code",
   "execution_count": 33,
   "metadata": {},
   "outputs": [],
   "source": [
    "class Person4:\n",
    "    def __init__(self, name, height, job, age):  \n",
    "        self.name = name\n",
    "        self.height = height\n",
    "        self.job = job\n",
    "        self.age = age\n",
    "        \n",
    "    def get_info(self):\n",
    "        return f'이름: {self.name}, 키: {self.height}, 직업: {self.job}, 나이: {self.age}'\n",
    "\n",
    "    def __str__(self):\n",
    "        return f'Person: 이름={self.name}, 키={self.height}, 직업={self.job}, 나이={self.age}'"
   ]
  },
  {
   "cell_type": "code",
   "execution_count": 34,
   "metadata": {},
   "outputs": [],
   "source": [
    "james = Person4('James', 175.0, 'programmer', 27)\n",
    "maria = Person4('maria', 165.0, 'designer', 25)"
   ]
  },
  {
   "cell_type": "code",
   "execution_count": 35,
   "metadata": {},
   "outputs": [
    {
     "name": "stdout",
     "output_type": "stream",
     "text": [
      "Person: 이름=James, 키=175.0, 직업=programmer, 나이=27\n"
     ]
    }
   ],
   "source": [
    "print(james)"
   ]
  },
  {
   "cell_type": "markdown",
   "metadata": {},
   "source": [
    "- 연습문제: class Tmoney\n",
    "    - 속성: age, balance(잔액)\n",
    "    - pay() method\n",
    "        - age< 7: 무료, 7 <= age <= 12: 650, 13 <= age <= 18: 1050, 19 <= age: 1350,\n",
    "        - 00 살의 요금은 000원이고, 잔액은 000원입니다.\n",
    "        - 잔액이 부족하면 '잔액이 부족합니다.ㅠㅠ' 출력\n",
    "    - charge(amount) method\n",
    "        - amount 만큼의 금액을 balance에 추가"
   ]
  },
  {
   "cell_type": "code",
   "execution_count": 72,
   "metadata": {},
   "outputs": [],
   "source": [
    "class Tmoney:\n",
    "    def __init__(self, age, balance):\n",
    "        self.age = age\n",
    "        self.balance = balance\n",
    "\n",
    "    def pay(self):\n",
    "        if self.age < 7:\n",
    "           fare = 0\n",
    "        elif 7 <= self.age <= 12:\n",
    "            fare = 650\n",
    "        elif 13 <= self.age <= 18:\n",
    "            fare = 1050\n",
    "        else:\n",
    "            fare = 1350\n",
    "        if  fare > self.balance:\n",
    "            print('잔액이 부족합니다.')\n",
    "        else:\n",
    "            self.balance -= fare\n",
    "            print(f'{self.age} 살의 요금은 {fare:,d}원이고, 잔액은 {self.balance:,d}원입니다.')            \n",
    "\n",
    "    def charge(self, amount):\n",
    "        self.balance += amount\n",
    "        print(f'{amount:,d}원을 충전하였고, 잔액은 {self.balance:,d}원 입니다.')\n"
   ]
  },
  {
   "cell_type": "code",
   "execution_count": 75,
   "metadata": {},
   "outputs": [
    {
     "name": "stdout",
     "output_type": "stream",
     "text": [
      "23 살의 요금은 1,350원이고, 잔액은 18,650원입니다.\n",
      "10,000원을 충전하였고, 잔액은 28,650원 입니다.\n"
     ]
    }
   ],
   "source": [
    "card = Tmoney(23, 20000)\n",
    "card.pay()\n",
    "card.charge(10000)"
   ]
  },
  {
   "cell_type": "code",
   "execution_count": 61,
   "metadata": {},
   "outputs": [
    {
     "name": "stdout",
     "output_type": "stream",
     "text": [
      "23 살의 요금은 1,350원이고, 잔액은 13,800원입니다.\n",
      "23 살의 요금은 1,350원이고, 잔액은 12,450원입니다.\n",
      "23 살의 요금은 1,350원이고, 잔액은 11,100원입니다.\n",
      "23 살의 요금은 1,350원이고, 잔액은 9,750원입니다.\n",
      "23 살의 요금은 1,350원이고, 잔액은 8,400원입니다.\n",
      "23 살의 요금은 1,350원이고, 잔액은 7,050원입니다.\n",
      "23 살의 요금은 1,350원이고, 잔액은 5,700원입니다.\n",
      "23 살의 요금은 1,350원이고, 잔액은 4,350원입니다.\n",
      "23 살의 요금은 1,350원이고, 잔액은 3,000원입니다.\n",
      "23 살의 요금은 1,350원이고, 잔액은 1,650원입니다.\n",
      "23 살의 요금은 1,350원이고, 잔액은 300원입니다.\n",
      "잔액이 부족합니다.\n",
      "잔액이 부족합니다.\n",
      "잔액이 부족합니다.\n",
      "잔액이 부족합니다.\n",
      "잔액이 부족합니다.\n",
      "잔액이 부족합니다.\n",
      "잔액이 부족합니다.\n",
      "잔액이 부족합니다.\n",
      "잔액이 부족합니다.\n"
     ]
    }
   ],
   "source": [
    "for _ in range(20):\n",
    "    card.pay()"
   ]
  },
  {
   "cell_type": "code",
   "execution_count": 69,
   "metadata": {},
   "outputs": [],
   "source": [
    "# 개선 작업(Refactoring)\n",
    "class Tmoney:\n",
    "    def __init__(self, age, balance):\n",
    "        self.age = age\n",
    "        self.balance = balance\n",
    "        self.fare =1350 if self.age >= 19 else \\\n",
    "                        1050 if self.age >= 13 else \\\n",
    "                            650 if self.age >= 7 else 0\n",
    "\n",
    "    def pay(self):\n",
    "        if self.fare <= self.balance:\n",
    "            self.balance -= self.fare\n",
    "            print(f'{self.age} 살의 요금은 {self.fare:,d}원이고, 잔액은 {self.balance:,d}원입니다.')            \n",
    "        else:\n",
    "            print('잔액이 부족합니다.ㅠㅠ')\n",
    "\n",
    "    def charge(self, amount):\n",
    "        self.balance += amount\n",
    "        print(f'{amount:,d}원을 충전하였고, 잔액은 {self.balance:,d}원 입니다.')\n"
   ]
  },
  {
   "cell_type": "code",
   "execution_count": 70,
   "metadata": {},
   "outputs": [
    {
     "name": "stdout",
     "output_type": "stream",
     "text": [
      "15 살의 요금은 1,050원이고, 잔액은 18,950원입니다.\n",
      "4,000원을 충전하였고, 잔액은 22,950원 입니다.\n"
     ]
    }
   ],
   "source": [
    "card = Tmoney(15, 20000)\n",
    "card.pay()\n",
    "card.charge(4000)"
   ]
  },
  {
   "cell_type": "markdown",
   "metadata": {},
   "source": [
    "### class Account (계좌)를 만드세요.\n",
    "1. 속성값 : \n",
    "- 계좌번호(ano), 소유주(owner), 잔액(balance)\n",
    "- 단, 잔액은 0월 이상이고, 10,000,000원 이하이어야 한다.\n",
    "\n",
    "2. deposit method:\n",
    "- amount를 매개변수로 받아 balance에 더해준다.\n",
    "- 잔액은 10000000원을 초과할 수 없다.\n",
    "\n",
    "3. withdraw method:\n",
    "- amount 만큼의 금액을 balance에서 차감한다.\n",
    "- 잔액은 마이너스 금액이 될 수 없다.\n",
    "4. __str__ method:\n",
    "- 계좌번호: 000, 소유주: 000, 잔액: 10자리의 천단위 구분기호가 있는 정수\n",
    "\n"
   ]
  },
  {
   "cell_type": "markdown",
   "metadata": {},
   "source": [
    "- Account 문제"
   ]
  },
  {
   "cell_type": "code",
   "execution_count": 2,
   "metadata": {},
   "outputs": [],
   "source": [
    "class Account:\n",
    "    def __init__(self, ano, owner, balance):\n",
    "        self.ano = ano\n",
    "        self.owner = owner\n",
    "        self.balance = balance\n",
    "        if 0 <= self.balance <= 10000000:\n",
    "            pass\n",
    "        else:\n",
    "            print('금액이 초과되었습니다.')\n",
    "    def deposit(self, amount):\n",
    "        if self.balance + amount <= 10000000:\n",
    "            self.balance += amount\n",
    "            print(f'잔액이 {self.balance:10,d}원 입니다.')\n",
    "        else:\n",
    "            print('금액이 초과되었습니다.')\n",
    "    def withdraw(self, amount):\n",
    "        if self.balance - amount >= 0:\n",
    "            self.balance -= amount\n",
    "            print(f'잔액이 {self.balance:10,d}원 입니다.')\n",
    "        else:\n",
    "            print('금액이 초과되었습니다.')\n",
    "    def __str__(self):\n",
    "        return f'계좌번호:{self.ano}, 소유주:{self.owner}, 잔액:{self.balance:10,d}'\n",
    "\n",
    "\n",
    "\n",
    "        \n"
   ]
  },
  {
   "cell_type": "code",
   "execution_count": 3,
   "metadata": {},
   "outputs": [
    {
     "name": "stdout",
     "output_type": "stream",
     "text": [
      "잔액이  8,300,000원 입니다.\n",
      "잔액이  8,100,000원 입니다.\n",
      "계좌번호:3333, 소유주:세훈, 잔액: 8,100,000\n"
     ]
    }
   ],
   "source": [
    "ac = Account(3333, '세훈', 8000000)\n",
    "ac.deposit(300000)\n",
    "ac.withdraw(200000)\n",
    "print(ac)"
   ]
  },
  {
   "cell_type": "code",
   "execution_count": 4,
   "metadata": {},
   "outputs": [
    {
     "name": "stdout",
     "output_type": "stream",
     "text": [
      "잔액이  8,090,000원 입니다.\n",
      "잔액이  8,080,000원 입니다.\n",
      "잔액이  8,070,000원 입니다.\n",
      "잔액이  8,060,000원 입니다.\n",
      "잔액이  8,050,000원 입니다.\n",
      "잔액이  8,040,000원 입니다.\n",
      "잔액이  8,030,000원 입니다.\n",
      "잔액이  8,020,000원 입니다.\n",
      "잔액이  8,010,000원 입니다.\n",
      "잔액이  8,000,000원 입니다.\n",
      "잔액이  7,990,000원 입니다.\n",
      "잔액이  7,980,000원 입니다.\n",
      "잔액이  7,970,000원 입니다.\n",
      "잔액이  7,960,000원 입니다.\n",
      "잔액이  7,950,000원 입니다.\n",
      "잔액이  7,940,000원 입니다.\n",
      "잔액이  7,930,000원 입니다.\n",
      "잔액이  7,920,000원 입니다.\n",
      "잔액이  7,910,000원 입니다.\n",
      "잔액이  7,900,000원 입니다.\n"
     ]
    }
   ],
   "source": [
    "for _ in range(20):\n",
    "    ac.withdraw(10000)\n"
   ]
  },
  {
   "cell_type": "code",
   "execution_count": 6,
   "metadata": {},
   "outputs": [
    {
     "ename": "NameError",
     "evalue": "name 'null' is not defined",
     "output_type": "error",
     "traceback": [
      "\u001b[1;31m---------------------------------------------------------------------------\u001b[0m",
      "\u001b[1;31mNameError\u001b[0m                                 Traceback (most recent call last)",
      "Cell \u001b[1;32mIn[6], line 1\u001b[0m\n\u001b[1;32m----> 1\u001b[0m \u001b[39mfrom\u001b[39;00m \u001b[39maccount\u001b[39;00m \u001b[39mimport\u001b[39;00m Account\n",
      "File \u001b[1;32md:\\WorkSpace\\01.Python\\08. 객체지향\\account.py:159\u001b[0m\n\u001b[0;32m      1\u001b[0m {\n\u001b[0;32m      2\u001b[0m  \u001b[39m\"\u001b[39m\u001b[39mcells\u001b[39m\u001b[39m\"\u001b[39m: [\n\u001b[0;32m      3\u001b[0m   {\n\u001b[0;32m      4\u001b[0m    \u001b[39m\"\u001b[39m\u001b[39mcell_type\u001b[39m\u001b[39m\"\u001b[39m: \u001b[39m\"\u001b[39m\u001b[39mmarkdown\u001b[39m\u001b[39m\"\u001b[39m,\n\u001b[0;32m      5\u001b[0m    \u001b[39m\"\u001b[39m\u001b[39mmetadata\u001b[39m\u001b[39m\"\u001b[39m: {},\n\u001b[0;32m      6\u001b[0m    \u001b[39m\"\u001b[39m\u001b[39msource\u001b[39m\u001b[39m\"\u001b[39m: [\n\u001b[0;32m      7\u001b[0m     \u001b[39m\"\u001b[39m\u001b[39m### class Account (계좌)를 만드세요.\u001b[39m\u001b[39m\\n\u001b[39;00m\u001b[39m\"\u001b[39m,\n\u001b[0;32m      8\u001b[0m     \u001b[39m\"\u001b[39m\u001b[39m\\n\u001b[39;00m\u001b[39m\"\u001b[39m,\n\u001b[0;32m      9\u001b[0m     \u001b[39m\"\u001b[39m\u001b[39m1. 속성값\u001b[39m\u001b[39m\\n\u001b[39;00m\u001b[39m\"\u001b[39m,\n\u001b[0;32m     10\u001b[0m     \u001b[39m\"\u001b[39m\u001b[39m    - 계좌번호(ano), 소유주(owner), 잔액(balance)\u001b[39m\u001b[39m\\n\u001b[39;00m\u001b[39m\"\u001b[39m,\n\u001b[0;32m     11\u001b[0m     \u001b[39m\"\u001b[39m\u001b[39m    - 단, 잔액은 0원 이상이고 10,000,000원 이하이어야 한다.\u001b[39m\u001b[39m\\n\u001b[39;00m\u001b[39m\"\u001b[39m,\n\u001b[0;32m     12\u001b[0m     \u001b[39m\"\u001b[39m\u001b[39m2. deposit method\u001b[39m\u001b[39m\\n\u001b[39;00m\u001b[39m\"\u001b[39m,\n\u001b[0;32m     13\u001b[0m     \u001b[39m\"\u001b[39m\u001b[39m    - amount를 매개변수로 받아 balance에 더해준다.\u001b[39m\u001b[39m\\n\u001b[39;00m\u001b[39m\"\u001b[39m,\n\u001b[0;32m     14\u001b[0m     \u001b[39m\"\u001b[39m\u001b[39m    - 잔액은 10000000원을 초과할 수 없다.\u001b[39m\u001b[39m\\n\u001b[39;00m\u001b[39m\"\u001b[39m,\n\u001b[0;32m     15\u001b[0m     \u001b[39m\"\u001b[39m\u001b[39m3. withdraw method\u001b[39m\u001b[39m\\n\u001b[39;00m\u001b[39m\"\u001b[39m,\n\u001b[0;32m     16\u001b[0m     \u001b[39m\"\u001b[39m\u001b[39m    - amount 만큼의 금액을  balance에서 차감된다.\u001b[39m\u001b[39m\\n\u001b[39;00m\u001b[39m\"\u001b[39m,\n\u001b[0;32m     17\u001b[0m     \u001b[39m\"\u001b[39m\u001b[39m    - 잔액은 마이너스 금액이 될 수 없다. \u001b[39m\u001b[39m\\n\u001b[39;00m\u001b[39m\"\u001b[39m,\n\u001b[0;32m     18\u001b[0m     \u001b[39m\"\u001b[39m\u001b[39m4. __str__ method\u001b[39m\u001b[39m\\n\u001b[39;00m\u001b[39m\"\u001b[39m,\n\u001b[0;32m     19\u001b[0m     \u001b[39m\"\u001b[39m\u001b[39m    - 계좌번호: 000, 소유주: 000, 잔액: 10자리의 천단위 구분기호가 있는 정수\u001b[39m\u001b[39m\"\u001b[39m\n\u001b[0;32m     20\u001b[0m    ]\n\u001b[0;32m     21\u001b[0m   },\n\u001b[0;32m     22\u001b[0m   {\n\u001b[0;32m     23\u001b[0m    \u001b[39m\"\u001b[39m\u001b[39mcell_type\u001b[39m\u001b[39m\"\u001b[39m: \u001b[39m\"\u001b[39m\u001b[39mcode\u001b[39m\u001b[39m\"\u001b[39m,\n\u001b[0;32m     24\u001b[0m    \u001b[39m\"\u001b[39m\u001b[39mexecution_count\u001b[39m\u001b[39m\"\u001b[39m: \u001b[39m7\u001b[39m,\n\u001b[0;32m     25\u001b[0m    \u001b[39m\"\u001b[39m\u001b[39mmetadata\u001b[39m\u001b[39m\"\u001b[39m: {},\n\u001b[0;32m     26\u001b[0m    \u001b[39m\"\u001b[39m\u001b[39moutputs\u001b[39m\u001b[39m\"\u001b[39m: [],\n\u001b[0;32m     27\u001b[0m    \u001b[39m\"\u001b[39m\u001b[39msource\u001b[39m\u001b[39m\"\u001b[39m: [\n\u001b[0;32m     28\u001b[0m     \u001b[39m\"\u001b[39m\u001b[39mclass Account:\u001b[39m\u001b[39m\\n\u001b[39;00m\u001b[39m\"\u001b[39m,\n\u001b[0;32m     29\u001b[0m     \u001b[39m\"\u001b[39m\u001b[39m    def __init__(self, ano, owner, balance):\u001b[39m\u001b[39m\\n\u001b[39;00m\u001b[39m\"\u001b[39m,\n\u001b[0;32m     30\u001b[0m     \u001b[39m\"\u001b[39m\u001b[39m        self.ano = ano\u001b[39m\u001b[39m\\n\u001b[39;00m\u001b[39m\"\u001b[39m,\n\u001b[0;32m     31\u001b[0m     \u001b[39m\"\u001b[39m\u001b[39m        self.owner = owner\u001b[39m\u001b[39m\\n\u001b[39;00m\u001b[39m\"\u001b[39m,\n\u001b[0;32m     32\u001b[0m     \u001b[39m\"\u001b[39m\u001b[39m        self.balance = balance\u001b[39m\u001b[39m\\n\u001b[39;00m\u001b[39m\"\u001b[39m,\n\u001b[0;32m     33\u001b[0m     \u001b[39m\"\u001b[39m\u001b[39m        if 0 <= self.balance <= 10000000:\u001b[39m\u001b[39m\\n\u001b[39;00m\u001b[39m\"\u001b[39m,\n\u001b[0;32m     34\u001b[0m     \u001b[39m\"\u001b[39m\u001b[39m            pass\u001b[39m\u001b[39m\\n\u001b[39;00m\u001b[39m\"\u001b[39m,\n\u001b[0;32m     35\u001b[0m     \u001b[39m\"\u001b[39m\u001b[39m        else:\u001b[39m\u001b[39m\\n\u001b[39;00m\u001b[39m\"\u001b[39m,\n\u001b[0;32m     36\u001b[0m     \u001b[39m\"\u001b[39m\u001b[39m            print(\u001b[39m\u001b[39m'\u001b[39m\u001b[39m금액이 초과되었습니다.\u001b[39m\u001b[39m'\u001b[39m\u001b[39m)\u001b[39m\u001b[39m\\n\u001b[39;00m\u001b[39m\"\u001b[39m,\n\u001b[0;32m     37\u001b[0m     \u001b[39m\"\u001b[39m\u001b[39m    def deposit(self, amount):\u001b[39m\u001b[39m\\n\u001b[39;00m\u001b[39m\"\u001b[39m,\n\u001b[0;32m     38\u001b[0m     \u001b[39m\"\u001b[39m\u001b[39m        if self.balance + amount <= 10000000:\u001b[39m\u001b[39m\\n\u001b[39;00m\u001b[39m\"\u001b[39m,\n\u001b[0;32m     39\u001b[0m     \u001b[39m\"\u001b[39m\u001b[39m            self.balance += amount\u001b[39m\u001b[39m\\n\u001b[39;00m\u001b[39m\"\u001b[39m,\n\u001b[0;32m     40\u001b[0m     \u001b[39m\"\u001b[39m\u001b[39m            print(f\u001b[39m\u001b[39m'\u001b[39m\u001b[39m잔액이 \u001b[39m\u001b[39m{self.balance:10,d}\u001b[39;00m\u001b[39m원 입니다.\u001b[39m\u001b[39m'\u001b[39m\u001b[39m)\u001b[39m\u001b[39m\\n\u001b[39;00m\u001b[39m\"\u001b[39m,\n\u001b[0;32m     41\u001b[0m     \u001b[39m\"\u001b[39m\u001b[39m        else:\u001b[39m\u001b[39m\\n\u001b[39;00m\u001b[39m\"\u001b[39m,\n\u001b[0;32m     42\u001b[0m     \u001b[39m\"\u001b[39m\u001b[39m            print(\u001b[39m\u001b[39m'\u001b[39m\u001b[39m금액이 초과되었습니다.\u001b[39m\u001b[39m'\u001b[39m\u001b[39m)\u001b[39m\u001b[39m\\n\u001b[39;00m\u001b[39m\"\u001b[39m,\n\u001b[0;32m     43\u001b[0m     \u001b[39m\"\u001b[39m\u001b[39m    def withdraw(self, amount):\u001b[39m\u001b[39m\\n\u001b[39;00m\u001b[39m\"\u001b[39m,\n\u001b[0;32m     44\u001b[0m     \u001b[39m\"\u001b[39m\u001b[39m        if self.balance - amount >= 0:\u001b[39m\u001b[39m\\n\u001b[39;00m\u001b[39m\"\u001b[39m,\n\u001b[0;32m     45\u001b[0m     \u001b[39m\"\u001b[39m\u001b[39m            self.balance -= amount\u001b[39m\u001b[39m\\n\u001b[39;00m\u001b[39m\"\u001b[39m,\n\u001b[0;32m     46\u001b[0m     \u001b[39m\"\u001b[39m\u001b[39m            print(f\u001b[39m\u001b[39m'\u001b[39m\u001b[39m잔액이 \u001b[39m\u001b[39m{self.balance:10,d}\u001b[39;00m\u001b[39m원 입니다.\u001b[39m\u001b[39m'\u001b[39m\u001b[39m)\u001b[39m\u001b[39m\\n\u001b[39;00m\u001b[39m\"\u001b[39m,\n\u001b[0;32m     47\u001b[0m     \u001b[39m\"\u001b[39m\u001b[39m        else:\u001b[39m\u001b[39m\\n\u001b[39;00m\u001b[39m\"\u001b[39m,\n\u001b[0;32m     48\u001b[0m     \u001b[39m\"\u001b[39m\u001b[39m            print(\u001b[39m\u001b[39m'\u001b[39m\u001b[39m금액이 초과되었습니다.\u001b[39m\u001b[39m'\u001b[39m\u001b[39m)\u001b[39m\u001b[39m\\n\u001b[39;00m\u001b[39m\"\u001b[39m,\n\u001b[0;32m     49\u001b[0m     \u001b[39m\"\u001b[39m\u001b[39m    def __str__(self):\u001b[39m\u001b[39m\\n\u001b[39;00m\u001b[39m\"\u001b[39m,\n\u001b[0;32m     50\u001b[0m     \u001b[39m\"\u001b[39m\u001b[39m        return f\u001b[39m\u001b[39m'\u001b[39m\u001b[39m계좌번호:\u001b[39m\u001b[39m{self.ano}\u001b[39;00m\u001b[39m, 소유주:\u001b[39m\u001b[39m{self.owner}\u001b[39;00m\u001b[39m, 잔액:\u001b[39m\u001b[39m{self.balance:10,d}\u001b[39;00m\u001b[39m'\u001b[39m\u001b[39m\\n\u001b[39;00m\u001b[39m\"\u001b[39m,\n\u001b[0;32m     51\u001b[0m     \u001b[39m\"\u001b[39m\u001b[39m\\n\u001b[39;00m\u001b[39m\"\u001b[39m,\n\u001b[0;32m     52\u001b[0m     \u001b[39m\"\u001b[39m\u001b[39m\\n\u001b[39;00m\u001b[39m\"\u001b[39m,\n\u001b[0;32m     53\u001b[0m     \u001b[39m\"\u001b[39m\u001b[39m\\n\u001b[39;00m\u001b[39m\"\u001b[39m,\n\u001b[0;32m     54\u001b[0m     \u001b[39m\"\u001b[39m\u001b[39m        \u001b[39m\u001b[39m\\n\u001b[39;00m\u001b[39m\"\u001b[39m\n\u001b[0;32m     55\u001b[0m    ]\n\u001b[0;32m     56\u001b[0m   },\n\u001b[0;32m     57\u001b[0m   {\n\u001b[0;32m     58\u001b[0m    \u001b[39m\"\u001b[39m\u001b[39mcell_type\u001b[39m\u001b[39m\"\u001b[39m: \u001b[39m\"\u001b[39m\u001b[39mcode\u001b[39m\u001b[39m\"\u001b[39m,\n\u001b[0;32m     59\u001b[0m    \u001b[39m\"\u001b[39m\u001b[39mexecution_count\u001b[39m\u001b[39m\"\u001b[39m: \u001b[39m6\u001b[39m,\n\u001b[0;32m     60\u001b[0m    \u001b[39m\"\u001b[39m\u001b[39mmetadata\u001b[39m\u001b[39m\"\u001b[39m: {},\n\u001b[0;32m     61\u001b[0m    \u001b[39m\"\u001b[39m\u001b[39moutputs\u001b[39m\u001b[39m\"\u001b[39m: [\n\u001b[0;32m     62\u001b[0m     {\n\u001b[0;32m     63\u001b[0m      \u001b[39m\"\u001b[39m\u001b[39mname\u001b[39m\u001b[39m\"\u001b[39m: \u001b[39m\"\u001b[39m\u001b[39mstdout\u001b[39m\u001b[39m\"\u001b[39m,\n\u001b[0;32m     64\u001b[0m      \u001b[39m\"\u001b[39m\u001b[39moutput_type\u001b[39m\u001b[39m\"\u001b[39m: \u001b[39m\"\u001b[39m\u001b[39mstream\u001b[39m\u001b[39m\"\u001b[39m,\n\u001b[0;32m     65\u001b[0m      \u001b[39m\"\u001b[39m\u001b[39mtext\u001b[39m\u001b[39m\"\u001b[39m: [\n\u001b[0;32m     66\u001b[0m       \u001b[39m\"\u001b[39m\u001b[39m잔액이  8,300,000원 입니다.\u001b[39m\u001b[39m\\n\u001b[39;00m\u001b[39m\"\u001b[39m,\n\u001b[0;32m     67\u001b[0m       \u001b[39m\"\u001b[39m\u001b[39m잔액이  8,100,000원 입니다.\u001b[39m\u001b[39m\\n\u001b[39;00m\u001b[39m\"\u001b[39m,\n\u001b[0;32m     68\u001b[0m       \u001b[39m\"\u001b[39m\u001b[39m계좌번호:3333, 소유주:세훈, 잔액: 8,100,000\u001b[39m\u001b[39m\\n\u001b[39;00m\u001b[39m\"\u001b[39m\n\u001b[0;32m     69\u001b[0m      ]\n\u001b[0;32m     70\u001b[0m     }\n\u001b[0;32m     71\u001b[0m    ],\n\u001b[0;32m     72\u001b[0m    \u001b[39m\"\u001b[39m\u001b[39msource\u001b[39m\u001b[39m\"\u001b[39m: [\n\u001b[0;32m     73\u001b[0m     \u001b[39m\"\u001b[39m\u001b[39mac = Account(3333, \u001b[39m\u001b[39m'\u001b[39m\u001b[39m세훈\u001b[39m\u001b[39m'\u001b[39m\u001b[39m, 8000000)\u001b[39m\u001b[39m\\n\u001b[39;00m\u001b[39m\"\u001b[39m,\n\u001b[0;32m     74\u001b[0m     \u001b[39m\"\u001b[39m\u001b[39mac.deposit(300000)\u001b[39m\u001b[39m\\n\u001b[39;00m\u001b[39m\"\u001b[39m,\n\u001b[0;32m     75\u001b[0m     \u001b[39m\"\u001b[39m\u001b[39mac.withdraw(200000)\u001b[39m\u001b[39m\\n\u001b[39;00m\u001b[39m\"\u001b[39m,\n\u001b[0;32m     76\u001b[0m     \u001b[39m\"\u001b[39m\u001b[39mprint(ac)\u001b[39m\u001b[39m\"\u001b[39m\n\u001b[0;32m     77\u001b[0m    ]\n\u001b[0;32m     78\u001b[0m   },\n\u001b[0;32m     79\u001b[0m   {\n\u001b[0;32m     80\u001b[0m    \u001b[39m\"\u001b[39m\u001b[39mcell_type\u001b[39m\u001b[39m\"\u001b[39m: \u001b[39m\"\u001b[39m\u001b[39mcode\u001b[39m\u001b[39m\"\u001b[39m,\n\u001b[0;32m     81\u001b[0m    \u001b[39m\"\u001b[39m\u001b[39mexecution_count\u001b[39m\u001b[39m\"\u001b[39m: \u001b[39m5\u001b[39m,\n\u001b[0;32m     82\u001b[0m    \u001b[39m\"\u001b[39m\u001b[39mmetadata\u001b[39m\u001b[39m\"\u001b[39m: {},\n\u001b[0;32m     83\u001b[0m    \u001b[39m\"\u001b[39m\u001b[39moutputs\u001b[39m\u001b[39m\"\u001b[39m: [\n\u001b[0;32m     84\u001b[0m     {\n\u001b[0;32m     85\u001b[0m      \u001b[39m\"\u001b[39m\u001b[39mname\u001b[39m\u001b[39m\"\u001b[39m: \u001b[39m\"\u001b[39m\u001b[39mstdout\u001b[39m\u001b[39m\"\u001b[39m,\n\u001b[0;32m     86\u001b[0m      \u001b[39m\"\u001b[39m\u001b[39moutput_type\u001b[39m\u001b[39m\"\u001b[39m: \u001b[39m\"\u001b[39m\u001b[39mstream\u001b[39m\u001b[39m\"\u001b[39m,\n\u001b[0;32m     87\u001b[0m      \u001b[39m\"\u001b[39m\u001b[39mtext\u001b[39m\u001b[39m\"\u001b[39m: [\n\u001b[0;32m     88\u001b[0m       \u001b[39m\"\u001b[39m\u001b[39m잔액이  7,890,000원 입니다.\u001b[39m\u001b[39m\\n\u001b[39;00m\u001b[39m\"\u001b[39m,\n\u001b[0;32m     89\u001b[0m       \u001b[39m\"\u001b[39m\u001b[39m잔액이  7,880,000원 입니다.\u001b[39m\u001b[39m\\n\u001b[39;00m\u001b[39m\"\u001b[39m,\n\u001b[0;32m     90\u001b[0m       \u001b[39m\"\u001b[39m\u001b[39m잔액이  7,870,000원 입니다.\u001b[39m\u001b[39m\\n\u001b[39;00m\u001b[39m\"\u001b[39m,\n\u001b[0;32m     91\u001b[0m       \u001b[39m\"\u001b[39m\u001b[39m잔액이  7,860,000원 입니다.\u001b[39m\u001b[39m\\n\u001b[39;00m\u001b[39m\"\u001b[39m,\n\u001b[0;32m     92\u001b[0m       \u001b[39m\"\u001b[39m\u001b[39m잔액이  7,850,000원 입니다.\u001b[39m\u001b[39m\\n\u001b[39;00m\u001b[39m\"\u001b[39m,\n\u001b[0;32m     93\u001b[0m       \u001b[39m\"\u001b[39m\u001b[39m잔액이  7,840,000원 입니다.\u001b[39m\u001b[39m\\n\u001b[39;00m\u001b[39m\"\u001b[39m,\n\u001b[0;32m     94\u001b[0m       \u001b[39m\"\u001b[39m\u001b[39m잔액이  7,830,000원 입니다.\u001b[39m\u001b[39m\\n\u001b[39;00m\u001b[39m\"\u001b[39m,\n\u001b[0;32m     95\u001b[0m       \u001b[39m\"\u001b[39m\u001b[39m잔액이  7,820,000원 입니다.\u001b[39m\u001b[39m\\n\u001b[39;00m\u001b[39m\"\u001b[39m,\n\u001b[0;32m     96\u001b[0m       \u001b[39m\"\u001b[39m\u001b[39m잔액이  7,810,000원 입니다.\u001b[39m\u001b[39m\\n\u001b[39;00m\u001b[39m\"\u001b[39m,\n\u001b[0;32m     97\u001b[0m       \u001b[39m\"\u001b[39m\u001b[39m잔액이  7,800,000원 입니다.\u001b[39m\u001b[39m\\n\u001b[39;00m\u001b[39m\"\u001b[39m,\n\u001b[0;32m     98\u001b[0m       \u001b[39m\"\u001b[39m\u001b[39m잔액이  7,790,000원 입니다.\u001b[39m\u001b[39m\\n\u001b[39;00m\u001b[39m\"\u001b[39m,\n\u001b[0;32m     99\u001b[0m       \u001b[39m\"\u001b[39m\u001b[39m잔액이  7,780,000원 입니다.\u001b[39m\u001b[39m\\n\u001b[39;00m\u001b[39m\"\u001b[39m,\n\u001b[0;32m    100\u001b[0m       \u001b[39m\"\u001b[39m\u001b[39m잔액이  7,770,000원 입니다.\u001b[39m\u001b[39m\\n\u001b[39;00m\u001b[39m\"\u001b[39m,\n\u001b[0;32m    101\u001b[0m       \u001b[39m\"\u001b[39m\u001b[39m잔액이  7,760,000원 입니다.\u001b[39m\u001b[39m\\n\u001b[39;00m\u001b[39m\"\u001b[39m,\n\u001b[0;32m    102\u001b[0m       \u001b[39m\"\u001b[39m\u001b[39m잔액이  7,750,000원 입니다.\u001b[39m\u001b[39m\\n\u001b[39;00m\u001b[39m\"\u001b[39m,\n\u001b[0;32m    103\u001b[0m       \u001b[39m\"\u001b[39m\u001b[39m잔액이  7,740,000원 입니다.\u001b[39m\u001b[39m\\n\u001b[39;00m\u001b[39m\"\u001b[39m,\n\u001b[0;32m    104\u001b[0m       \u001b[39m\"\u001b[39m\u001b[39m잔액이  7,730,000원 입니다.\u001b[39m\u001b[39m\\n\u001b[39;00m\u001b[39m\"\u001b[39m,\n\u001b[0;32m    105\u001b[0m       \u001b[39m\"\u001b[39m\u001b[39m잔액이  7,720,000원 입니다.\u001b[39m\u001b[39m\\n\u001b[39;00m\u001b[39m\"\u001b[39m,\n\u001b[0;32m    106\u001b[0m       \u001b[39m\"\u001b[39m\u001b[39m잔액이  7,710,000원 입니다.\u001b[39m\u001b[39m\\n\u001b[39;00m\u001b[39m\"\u001b[39m,\n\u001b[0;32m    107\u001b[0m       \u001b[39m\"\u001b[39m\u001b[39m잔액이  7,700,000원 입니다.\u001b[39m\u001b[39m\\n\u001b[39;00m\u001b[39m\"\u001b[39m\n\u001b[0;32m    108\u001b[0m      ]\n\u001b[0;32m    109\u001b[0m     }\n\u001b[0;32m    110\u001b[0m    ],\n\u001b[0;32m    111\u001b[0m    \u001b[39m\"\u001b[39m\u001b[39msource\u001b[39m\u001b[39m\"\u001b[39m: [\n\u001b[0;32m    112\u001b[0m     \u001b[39m\"\u001b[39m\u001b[39mfor _ in range(20):\u001b[39m\u001b[39m\\n\u001b[39;00m\u001b[39m\"\u001b[39m,\n\u001b[0;32m    113\u001b[0m     \u001b[39m\"\u001b[39m\u001b[39m    ac.withdraw(10000)\u001b[39m\u001b[39m\\n\u001b[39;00m\u001b[39m\"\u001b[39m\n\u001b[0;32m    114\u001b[0m    ]\n\u001b[0;32m    115\u001b[0m   },\n\u001b[0;32m    116\u001b[0m   {\n\u001b[0;32m    117\u001b[0m    \u001b[39m\"\u001b[39m\u001b[39mcell_type\u001b[39m\u001b[39m\"\u001b[39m: \u001b[39m\"\u001b[39m\u001b[39mcode\u001b[39m\u001b[39m\"\u001b[39m,\n\u001b[0;32m    118\u001b[0m    \u001b[39m\"\u001b[39m\u001b[39mexecution_count\u001b[39m\u001b[39m\"\u001b[39m: \u001b[39m4\u001b[39m,\n\u001b[0;32m    119\u001b[0m    \u001b[39m\"\u001b[39m\u001b[39mmetadata\u001b[39m\u001b[39m\"\u001b[39m: {},\n\u001b[0;32m    120\u001b[0m    \u001b[39m\"\u001b[39m\u001b[39moutputs\u001b[39m\u001b[39m\"\u001b[39m: [],\n\u001b[0;32m    121\u001b[0m    \u001b[39m\"\u001b[39m\u001b[39msource\u001b[39m\u001b[39m\"\u001b[39m: [\n\u001b[0;32m    122\u001b[0m     \u001b[39m\"\u001b[39m\u001b[39m# 센세 풀이\u001b[39m\u001b[39m\\n\u001b[39;00m\u001b[39m\"\u001b[39m,\n\u001b[0;32m    123\u001b[0m     \u001b[39m\"\u001b[39m\u001b[39mclass Account:\u001b[39m\u001b[39m\\n\u001b[39;00m\u001b[39m\"\u001b[39m,\n\u001b[0;32m    124\u001b[0m     \u001b[39m\"\u001b[39m\u001b[39m    def__init__(self, ano, owner, balance):\u001b[39m\u001b[39m\\n\u001b[39;00m\u001b[39m\"\u001b[39m,\n\u001b[0;32m    125\u001b[0m     \u001b[39m\"\u001b[39m\u001b[39m        self.ano = ano\u001b[39m\u001b[39m\\n\u001b[39;00m\u001b[39m\"\u001b[39m,\n\u001b[0;32m    126\u001b[0m     \u001b[39m\"\u001b[39m\u001b[39m        self.owner = owner\u001b[39m\u001b[39m\\n\u001b[39;00m\u001b[39m\"\u001b[39m,\n\u001b[0;32m    127\u001b[0m     \u001b[39m\"\u001b[39m\u001b[39m        self.balance = 0\u001b[39m\u001b[39m\\n\u001b[39;00m\u001b[39m\"\u001b[39m,\n\u001b[0;32m    128\u001b[0m     \u001b[39m\"\u001b[39m\u001b[39m        if 0 <= balance <= 100000000:\u001b[39m\u001b[39m\\n\u001b[39;00m\u001b[39m\"\u001b[39m,\n\u001b[0;32m    129\u001b[0m     \u001b[39m\"\u001b[39m\u001b[39m            self.balance = balance\u001b[39m\u001b[39m\\n\u001b[39;00m\u001b[39m\"\u001b[39m,\n\u001b[0;32m    130\u001b[0m     \u001b[39m\"\u001b[39m\u001b[39m        # else:\u001b[39m\u001b[39m\\n\u001b[39;00m\u001b[39m\"\u001b[39m,\n\u001b[0;32m    131\u001b[0m     \u001b[39m\"\u001b[39m\u001b[39m        #    self.balance = 0\u001b[39m\u001b[39m\\n\u001b[39;00m\u001b[39m\"\u001b[39m,\n\u001b[0;32m    132\u001b[0m     \u001b[39m\"\u001b[39m\u001b[39m    def deposit(self, amount):\u001b[39m\u001b[39m\\n\u001b[39;00m\u001b[39m\"\u001b[39m,\n\u001b[0;32m    133\u001b[0m     \u001b[39m\"\u001b[39m\u001b[39m        if self.balance + amount > 10000000:\u001b[39m\u001b[39m\\n\u001b[39;00m\u001b[39m\"\u001b[39m,\n\u001b[0;32m    134\u001b[0m     \u001b[39m\"\u001b[39m\u001b[39m            print(\u001b[39m\u001b[39m'\u001b[39m\u001b[39m일천만원이 초과할 수 없습니다.\u001b[39m\u001b[39m'\u001b[39m\u001b[39m)\u001b[39m\u001b[39m\\n\u001b[39;00m\u001b[39m\"\u001b[39m,\n\u001b[0;32m    135\u001b[0m     \u001b[39m\"\u001b[39m\u001b[39m            return\u001b[39m\u001b[39m\\n\u001b[39;00m\u001b[39m\"\u001b[39m,\n\u001b[0;32m    136\u001b[0m     \u001b[39m\"\u001b[39m\u001b[39m        self.balance += amount\u001b[39m\u001b[39m\\n\u001b[39;00m\u001b[39m\"\u001b[39m,\n\u001b[0;32m    137\u001b[0m     \u001b[39m\"\u001b[39m\u001b[39m    def wuthdraw(self, amount):\u001b[39m\u001b[39m\\n\u001b[39;00m\u001b[39m\"\u001b[39m,\n\u001b[0;32m    138\u001b[0m     \u001b[39m\"\u001b[39m\u001b[39m        if self.balance < amount:\u001b[39m\u001b[39m\\n\u001b[39;00m\u001b[39m\"\u001b[39m,\n\u001b[0;32m    139\u001b[0m     \u001b[39m\"\u001b[39m\u001b[39m            print(\u001b[39m\u001b[39m'\u001b[39m\u001b[39m잔액이 부족합니다.\u001b[39m\u001b[39m'\u001b[39m\u001b[39m)\u001b[39m\u001b[39m\\n\u001b[39;00m\u001b[39m\"\u001b[39m,\n\u001b[0;32m    140\u001b[0m     \u001b[39m\"\u001b[39m\u001b[39m            return\u001b[39m\u001b[39m\\n\u001b[39;00m\u001b[39m\"\u001b[39m,\n\u001b[0;32m    141\u001b[0m     \u001b[39m\"\u001b[39m\u001b[39m        self.balance -= amount\u001b[39m\u001b[39m\\n\u001b[39;00m\u001b[39m\"\u001b[39m,\n\u001b[0;32m    142\u001b[0m     \u001b[39m\"\u001b[39m\u001b[39m    def __str__(self):\u001b[39m\u001b[39m\\n\u001b[39;00m\u001b[39m\"\u001b[39m,\n\u001b[0;32m    143\u001b[0m     \u001b[39m\"\u001b[39m\u001b[39m        return f\u001b[39m\u001b[39m'\u001b[39m\u001b[39m계좌번호:\u001b[39m\u001b[39m{self.ano}\u001b[39;00m\u001b[39m, 소유주:\u001b[39m\u001b[39m{self.owner}\u001b[39;00m\u001b[39m, 잔액:\u001b[39m\u001b[39m{self.balance:10,d}\u001b[39;00m\u001b[39m'\u001b[39m\u001b[39m\\n\u001b[39;00m\u001b[39m\"\u001b[39m,\n\u001b[0;32m    144\u001b[0m     \u001b[39m\"\u001b[39m\u001b[39m\\n\u001b[39;00m\u001b[39m\"\u001b[39m,\n\u001b[0;32m    145\u001b[0m     \u001b[39m\"\u001b[39m\u001b[39mif __name__ == \u001b[39m\u001b[39m'\u001b[39m\u001b[39m__main__\u001b[39m\u001b[39m'\u001b[39m\u001b[39m:\u001b[39m\u001b[39m\\n\u001b[39;00m\u001b[39m\"\u001b[39m,\n\u001b[0;32m    146\u001b[0m     \u001b[39m\"\u001b[39m\u001b[39m    acc = Account(\u001b[39m\u001b[39m'\u001b[39m\u001b[39m230906\u001b[39m\u001b[39m'\u001b[39m\u001b[39m, \u001b[39m\u001b[39m'\u001b[39m\u001b[39m제임스\u001b[39m\u001b[39m'\u001b[39m\u001b[39m, 100000)\u001b[39m\u001b[39m\\n\u001b[39;00m\u001b[39m\"\u001b[39m,\n\u001b[0;32m    147\u001b[0m     \u001b[39m\"\u001b[39m\u001b[39m    print(acc)\u001b[39m\u001b[39m\\n\u001b[39;00m\u001b[39m\"\u001b[39m,\n\u001b[0;32m    148\u001b[0m     \u001b[39m\"\u001b[39m\u001b[39m    acc.deposit(200000)\u001b[39m\u001b[39m\\n\u001b[39;00m\u001b[39m\"\u001b[39m,\n\u001b[0;32m    149\u001b[0m     \u001b[39m\"\u001b[39m\u001b[39m    print(acc)\u001b[39m\u001b[39m\\n\u001b[39;00m\u001b[39m\"\u001b[39m,\n\u001b[0;32m    150\u001b[0m     \u001b[39m\"\u001b[39m\u001b[39m    acc.withdraw(400000)\u001b[39m\u001b[39m\\n\u001b[39;00m\u001b[39m\"\u001b[39m,\n\u001b[0;32m    151\u001b[0m     \u001b[39m\"\u001b[39m\u001b[39m    acc.withdraw(250000)\u001b[39m\u001b[39m\\n\u001b[39;00m\u001b[39m\"\u001b[39m,\n\u001b[0;32m    152\u001b[0m     \u001b[39m\"\u001b[39m\u001b[39m    print(acc)\u001b[39m\u001b[39m\\n\u001b[39;00m\u001b[39m\"\u001b[39m,\n\u001b[0;32m    153\u001b[0m     \u001b[39m\"\u001b[39m\u001b[39m\\n\u001b[39;00m\u001b[39m\"\u001b[39m,\n\u001b[0;32m    154\u001b[0m     \u001b[39m\"\u001b[39m\u001b[39m    \u001b[39m\u001b[39m\"\u001b[39m\n\u001b[0;32m    155\u001b[0m    ]\n\u001b[0;32m    156\u001b[0m   },\n\u001b[0;32m    157\u001b[0m   {\n\u001b[0;32m    158\u001b[0m    \u001b[39m\"\u001b[39m\u001b[39mcell_type\u001b[39m\u001b[39m\"\u001b[39m: \u001b[39m\"\u001b[39m\u001b[39mcode\u001b[39m\u001b[39m\"\u001b[39m,\n\u001b[1;32m--> 159\u001b[0m    \u001b[39m\"\u001b[39m\u001b[39mexecution_count\u001b[39m\u001b[39m\"\u001b[39m: null,\n\u001b[0;32m    160\u001b[0m    \u001b[39m\"\u001b[39m\u001b[39mmetadata\u001b[39m\u001b[39m\"\u001b[39m: {},\n\u001b[0;32m    161\u001b[0m    \u001b[39m\"\u001b[39m\u001b[39moutputs\u001b[39m\u001b[39m\"\u001b[39m: [],\n\u001b[0;32m    162\u001b[0m    \u001b[39m\"\u001b[39m\u001b[39msource\u001b[39m\u001b[39m\"\u001b[39m: []\n\u001b[0;32m    163\u001b[0m   }\n\u001b[0;32m    164\u001b[0m  ],\n\u001b[0;32m    165\u001b[0m  \u001b[39m\"\u001b[39m\u001b[39mmetadata\u001b[39m\u001b[39m\"\u001b[39m: {\n\u001b[0;32m    166\u001b[0m   \u001b[39m\"\u001b[39m\u001b[39mkernelspec\u001b[39m\u001b[39m\"\u001b[39m: {\n\u001b[0;32m    167\u001b[0m    \u001b[39m\"\u001b[39m\u001b[39mdisplay_name\u001b[39m\u001b[39m\"\u001b[39m: \u001b[39m\"\u001b[39m\u001b[39mbase\u001b[39m\u001b[39m\"\u001b[39m,\n\u001b[0;32m    168\u001b[0m    \u001b[39m\"\u001b[39m\u001b[39mlanguage\u001b[39m\u001b[39m\"\u001b[39m: \u001b[39m\"\u001b[39m\u001b[39mpython\u001b[39m\u001b[39m\"\u001b[39m,\n\u001b[0;32m    169\u001b[0m    \u001b[39m\"\u001b[39m\u001b[39mname\u001b[39m\u001b[39m\"\u001b[39m: \u001b[39m\"\u001b[39m\u001b[39mpython3\u001b[39m\u001b[39m\"\u001b[39m\n\u001b[0;32m    170\u001b[0m   },\n\u001b[0;32m    171\u001b[0m   \u001b[39m\"\u001b[39m\u001b[39mlanguage_info\u001b[39m\u001b[39m\"\u001b[39m: {\n\u001b[0;32m    172\u001b[0m    \u001b[39m\"\u001b[39m\u001b[39mcodemirror_mode\u001b[39m\u001b[39m\"\u001b[39m: {\n\u001b[0;32m    173\u001b[0m     \u001b[39m\"\u001b[39m\u001b[39mname\u001b[39m\u001b[39m\"\u001b[39m: \u001b[39m\"\u001b[39m\u001b[39mipython\u001b[39m\u001b[39m\"\u001b[39m,\n\u001b[0;32m    174\u001b[0m     \u001b[39m\"\u001b[39m\u001b[39mversion\u001b[39m\u001b[39m\"\u001b[39m: \u001b[39m3\u001b[39m\n\u001b[0;32m    175\u001b[0m    },\n\u001b[0;32m    176\u001b[0m    \u001b[39m\"\u001b[39m\u001b[39mfile_extension\u001b[39m\u001b[39m\"\u001b[39m: \u001b[39m\"\u001b[39m\u001b[39m.py\u001b[39m\u001b[39m\"\u001b[39m,\n\u001b[0;32m    177\u001b[0m    \u001b[39m\"\u001b[39m\u001b[39mmimetype\u001b[39m\u001b[39m\"\u001b[39m: \u001b[39m\"\u001b[39m\u001b[39mtext/x-python\u001b[39m\u001b[39m\"\u001b[39m,\n\u001b[0;32m    178\u001b[0m    \u001b[39m\"\u001b[39m\u001b[39mname\u001b[39m\u001b[39m\"\u001b[39m: \u001b[39m\"\u001b[39m\u001b[39mpython\u001b[39m\u001b[39m\"\u001b[39m,\n\u001b[0;32m    179\u001b[0m    \u001b[39m\"\u001b[39m\u001b[39mnbconvert_exporter\u001b[39m\u001b[39m\"\u001b[39m: \u001b[39m\"\u001b[39m\u001b[39mpython\u001b[39m\u001b[39m\"\u001b[39m,\n\u001b[0;32m    180\u001b[0m    \u001b[39m\"\u001b[39m\u001b[39mpygments_lexer\u001b[39m\u001b[39m\"\u001b[39m: \u001b[39m\"\u001b[39m\u001b[39mipython3\u001b[39m\u001b[39m\"\u001b[39m,\n\u001b[0;32m    181\u001b[0m    \u001b[39m\"\u001b[39m\u001b[39mversion\u001b[39m\u001b[39m\"\u001b[39m: \u001b[39m\"\u001b[39m\u001b[39m3.11.4\u001b[39m\u001b[39m\"\u001b[39m\n\u001b[0;32m    182\u001b[0m   },\n\u001b[0;32m    183\u001b[0m   \u001b[39m\"\u001b[39m\u001b[39morig_nbformat\u001b[39m\u001b[39m\"\u001b[39m: \u001b[39m4\u001b[39m\n\u001b[0;32m    184\u001b[0m  },\n\u001b[0;32m    185\u001b[0m  \u001b[39m\"\u001b[39m\u001b[39mnbformat\u001b[39m\u001b[39m\"\u001b[39m: \u001b[39m4\u001b[39m,\n\u001b[0;32m    186\u001b[0m  \u001b[39m\"\u001b[39m\u001b[39mnbformat_minor\u001b[39m\u001b[39m\"\u001b[39m: \u001b[39m2\u001b[39m\n\u001b[0;32m    187\u001b[0m }\n",
      "\u001b[1;31mNameError\u001b[0m: name 'null' is not defined"
     ]
    }
   ],
   "source": [
    "from account import Account"
   ]
  },
  {
   "cell_type": "code",
   "execution_count": null,
   "metadata": {},
   "outputs": [],
   "source": []
  }
 ],
 "metadata": {
  "kernelspec": {
   "display_name": "base",
   "language": "python",
   "name": "python3"
  },
  "language_info": {
   "codemirror_mode": {
    "name": "ipython",
    "version": 3
   },
   "file_extension": ".py",
   "mimetype": "text/x-python",
   "name": "python",
   "nbconvert_exporter": "python",
   "pygments_lexer": "ipython3",
   "version": "3.11.4"
  },
  "orig_nbformat": 4
 },
 "nbformat": 4,
 "nbformat_minor": 2
}
